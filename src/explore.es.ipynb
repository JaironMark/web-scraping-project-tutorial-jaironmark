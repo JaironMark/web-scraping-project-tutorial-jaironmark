{
    "cells": [
        {
            "cell_type": "markdown",
            "metadata": {},
            "source": [
                "# Explora aquí\n",
                "\n",
                "Se recomienda utilizar este cuaderno con fines de exploración."
            ]
        },
        {
            "cell_type": "code",
            "execution_count": null,
            "metadata": {},
            "outputs": [],
            "source": [
                "import os\n",
                "from bs4 import BeautifulSoup\n",
                "import requests\n",
                "import sqlite3\n",
                "import matplotlib.pyplot as plt\n",
                "import seaborn as sns\n",
                "import csv\n"
            ]
        },
        {
            "cell_type": "code",
            "execution_count": null,
            "metadata": {},
            "outputs": [
                {
                    "name": "stdout",
                    "output_type": "stream",
                    "text": [
                        "La solicitud fue exitosa.\n",
                        "<!DOCTYPE html>\n",
                        "<html lang=\"en-US\">\n",
                        " <head>\n",
                        "  <title>\n",
                        "   Tesla (TSLA) - Revenue\n",
                        "  </title>\n",
                        "  <meta charset=\"utf-8\"/>\n",
                        "  <link href=\"https://companiesmarketcap.com/favicon.ico\" rel=\"shortcut icon\" type=\"image/x-icon\"/>\n",
                        "  <link href=\"/img/icons/apple-icon-57x57.png\" rel=\"apple-touch-icon\" sizes=\"57x57\"/>\n",
                        "  <link href=\"/img/icons/apple-icon-60x60.png\" rel=\"apple-touch-icon\" sizes=\"60x60\"/>\n",
                        "  <link href=\"/img/icons/apple-icon-72x72.png\" rel=\"apple-touch-icon\" sizes=\"72x72\"/>\n",
                        "  <link href=\"/img/icons/apple-icon-76x76.png\" rel=\"apple-touch-icon\" sizes=\"76x76\"/>\n",
                        "  <link href=\"/img/icons/apple-icon-114x114.png\" rel=\"apple-touch-icon\" sizes=\"114x114\"/>\n",
                        "  <link href=\"/img/icons/apple-icon-120x120.png\" rel=\"apple-touch-icon\" sizes=\"120x120\"/>\n",
                        "  <link href=\"/img/icons/apple-icon-144x144.png\" rel=\"apple-touch-icon\" sizes=\"144x144\"/>\n",
                        "  <link href=\"/img/icons/apple-icon-152x152.png\" rel=\"apple-touch-icon\" sizes=\"152x152\"/>\n",
                        "  <link href=\"/img/icons/apple-icon-180x180.png\" rel=\"apple-touch-icon\" sizes=\"\n"
                    ]
                }
            ],
            "source": [
                "from selenium import webdriver\n",
                "from selenium.webdriver.common.by import By\n",
                "from selenium.webdriver.chrome.service import Service\n",
                "from webdriver_manager.chrome import ChromeDriverManager\n",
                "import time\n",
                "\n",
                "options = webdriver.ChromeOptions()\n",
                "\n",
                "driver = webdriver.Chrome(\n",
                "    service = Service(ChromeDriverManager().install()),\n",
                "    options = options\n",
                ")\n",
                "\n",
                "URL = \"https://books.toscrape.com/\"\n",
                "driver.get(URL)\n",
                "\n",
                "books = driver.find_elements(By.TAG_NAME, \"h3\")\n",
                "for element in books:\n",
                "    print(element.text)\n",
                "\n",
                "book_titles = []\n",
                "\n",
                "while True:\n",
                "    button_next = None\n",
                "\n",
                "    # Get the books of the current page\n",
                "    books = driver.find_elements(By.TAG_NAME, \"h3\")\n",
                "    for element in books:\n",
                "        # book_titles.append(element.text)\n",
                "        book_titles += [element.text]\n",
                "\n",
                "    # Go to the next page\n",
                "    a_elements = driver.find_elements(By.TAG_NAME, \"a\")\n",
                "    for a_element in a_elements:\n",
                "        if a_element.text == \"next\":\n",
                "            button_next = a_element\n",
                "    \n",
                "    if button_next is None:\n",
                "        break\n",
                "    else:\n",
                "        button_next.click()\n",
                "\n",
                "\n",
                "time.sleep(1000)\n"
            ]
        }
    ],
    "metadata": {
        "kernelspec": {
            "display_name": "Python 3",
            "language": "python",
            "name": "python3"
        },
        "language_info": {
            "codemirror_mode": {
                "name": "ipython",
                "version": 3
            },
            "file_extension": ".py",
            "mimetype": "text/x-python",
            "name": "python",
            "nbconvert_exporter": "python",
            "pygments_lexer": "ipython3",
            "version": "3.11.4"
        },
        "orig_nbformat": 4
    },
    "nbformat": 4,
    "nbformat_minor": 2
}
